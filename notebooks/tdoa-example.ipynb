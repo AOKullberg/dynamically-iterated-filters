{
 "cells": [
  {
   "cell_type": "markdown",
   "id": "3f95ca82-09a9-440d-8fcc-bd6833920b79",
   "metadata": {},
   "source": [
    "## TDOA example"
   ]
  },
  {
   "cell_type": "code",
   "execution_count": null,
   "id": "bc8878f3",
   "metadata": {
    "tags": []
   },
   "outputs": [],
   "source": [
    "%load_ext autoreload\n",
    "%autoreload 2\n",
    "import jax\n",
    "import jax.numpy as jnp\n",
    "jax.config.update(\"jax_enable_x64\", True)\n",
    "import numpy as np\n",
    "import matplotlib.pyplot as plt\n",
    "from ssmjax.types import MVNormal\n",
    "from ssmjax.types import StateSpaceModel\n",
    "from ssmjax.types import options as options\n",
    "from ssmjax import algs\n",
    "import ssmjax.examples.tdoa as tdoa\n",
    "from tqdm.notebook import tqdm\n",
    "from ssmjax.utility.pytrees import tree_stack\n",
    "import json"
   ]
  },
  {
   "cell_type": "code",
   "execution_count": null,
   "id": "24ed52b6-9b6c-4b25-bc47-38b557b644ac",
   "metadata": {
    "tags": []
   },
   "outputs": [],
   "source": [
    "with open('../data/tdoa_data.json', 'r') as file:\n",
    "    data = json.load(file)\n",
    "data = {key: np.array(val) for key, val in data.items()}\n",
    "with open('../data/tdoa_calibration.json', 'r') as file:\n",
    "    calibration_data = json.load(file)\n",
    "calibration_data = {key: np.array(val) for key, val in calibration_data.items()}"
   ]
  },
  {
   "cell_type": "markdown",
   "id": "13c2dddd-aaa7-4d5b-a21a-498da5a66b04",
   "metadata": {},
   "source": [
    "### Construct a noise model for the microphones\n",
    "\n",
    "The model for the calibration data is given by\n",
    "$$ y_i = r + kT\\cdot v + e_i, $$\n",
    "where $r$ is the distance between source and microphone (which is identical for all microphones) and $T$ is the period in which the pulse is emitted.\n",
    "Hence, the joint model is given by\n",
    "$$ y = Hx + e $$\n",
    "where $x$ can be identified using least-squares which can then be subtracted from y to form an estimate of $e$, i.e.,\n",
    "$$ e = y - Hx^{LS} $$\n",
    "where\n",
    "$$ x^{LS} = (H^TH)^{-1}H^Ty $$"
   ]
  },
  {
   "cell_type": "code",
   "execution_count": null,
   "id": "95f0d689-6514-4180-a341-7e35f259ef19",
   "metadata": {
    "tags": []
   },
   "outputs": [],
   "source": [
    "N = calibration_data['pulse_times'].shape[1]\n",
    "H = np.ones((N, 2))\n",
    "H[:, -1] = np.arange(1, N+1)\n",
    "H = np.kron(H, np.ones((8, 1)))\n",
    "x = np.linalg.lstsq(H, calibration_data['pulse_times'].T.flatten()*tdoa.v, rcond=None)[0]\n",
    "e = (calibration_data['pulse_times'].T.flatten()*tdoa.v - H@x).reshape(8,-1)\n",
    "s2 = np.var(e, axis=1)"
   ]
  },
  {
   "cell_type": "markdown",
   "id": "7a19a8e1-5451-40e6-a83d-32936731de86",
   "metadata": {},
   "source": [
    "### Plot out the scenario"
   ]
  },
  {
   "cell_type": "code",
   "execution_count": null,
   "id": "c427bc5d-5062-4714-936c-030b219c94f6",
   "metadata": {
    "tags": []
   },
   "outputs": [],
   "source": [
    "%matplotlib widget\n",
    "mic_locations = data['mic_locations'][:, :4]\n",
    "pulse_times = data['pulse_times'][:4, :-1] # Last pulse is bad\n",
    "N = pulse_times.shape[1]\n",
    "\n",
    "plt.figure()\n",
    "plt.plot(mic_locations[0, :], mic_locations[1, :], '^', color='tab:green')\n",
    "plt.plot(data['ground_truth'][1, :], data['ground_truth'][2, :], '--k', lw=.5)\n",
    "plt.plot(data['initial_state'][0], data['initial_state'][1], '*', color='tab:red')\n",
    "plt.xlim([-3, 3])\n",
    "plt.ylim([-3.5, 3.5])\n",
    "plt.show()"
   ]
  },
  {
   "cell_type": "markdown",
   "id": "d218cbb2-0f9b-440c-ad18-c82a41f4b51c",
   "metadata": {},
   "source": [
    "### Build state-space model"
   ]
  },
  {
   "cell_type": "code",
   "execution_count": null,
   "id": "a033dd7c-290d-4372-b080-319af2b1837a",
   "metadata": {
    "tags": []
   },
   "outputs": [],
   "source": [
    "ssm = tdoa.build_model(tdoa.T, 1e-3, 1e-4, s2[:4])"
   ]
  },
  {
   "cell_type": "markdown",
   "id": "f8840428-f139-451c-8280-f253190d2ac4",
   "metadata": {},
   "source": [
    "### Simple snapshot localization approach\n",
    "Localizes the RC-car without dynamics -- primarily to sync audio to ground truth trajectory"
   ]
  },
  {
   "cell_type": "code",
   "execution_count": null,
   "id": "b8a6e6c6-2220-43aa-8eab-90261c65cfb1",
   "metadata": {
    "tags": []
   },
   "outputs": [],
   "source": [
    "import scipy\n",
    "def loss(x, y):\n",
    "    diff = y - ssm.observation_function(x, mic_locations)\n",
    "    return jnp.sum(jnp.linalg.solve(ssm.observation_covariance, diff.T)*diff.T, axis=0)\n",
    "\n",
    "opt_xhat = np.zeros((N, 2))\n",
    "for k in range(N):    \n",
    "    yi = np.diff(pulse_times[:, k])*tdoa.v\n",
    "    sol = scipy.optimize.minimize(lambda x: loss(x, yi), x0=np.array([0, 0]))\n",
    "    opt_xhat[k] = sol.x"
   ]
  },
  {
   "cell_type": "markdown",
   "id": "129f5b34-5e2d-4058-8575-8db28fd12c1d",
   "metadata": {},
   "source": [
    "### Sync the ground truth to the audio\n",
    "To sync the ground truth to the audio, the ground truth trajectory (along $x$) is assumed to be measured as\n",
    "$$x = f(t) + e$$\n",
    "where $t$ is the time and $e\\sim\\mathcal{N}(0,\\sigma^2)$.\n",
    "$f$ is assumed to be a Gaussian Process with some particular kernel $k$. The kernel parameters and noise variance are found by minimizing the negative log-likelihood of the ground truth trajectory data.\n",
    "\n",
    "The first estimate of the snapshot approach is then used as a \"pseudo-measurement\" to sync the trajectory by maximizing the negative log predictive density of the trained GP model. This yields the most likely initial time of the audio trajectory. The succeeding times of the audio trajectory are assumed equi-distantly sampled with a 0.5 second interval. This \"true\" ground truth is then found through the predictive density under the fitted GP model. An independent GP is fit to the $y$ coordinate as well in a similar manner."
   ]
  },
  {
   "cell_type": "code",
   "execution_count": null,
   "id": "16434f08-ab2d-45c4-bb1f-68c30d4a24a6",
   "metadata": {
    "tags": []
   },
   "outputs": [],
   "source": [
    "import bayesnewton\n",
    "import objax\n",
    "import scipy\n",
    "\n",
    "def train_gp(X, Y):\n",
    "    lr_ad = 0.1\n",
    "    kern = bayesnewton.kernels.Matern72()\n",
    "    lik = bayesnewton.likelihoods.Gaussian()\n",
    "    model = bayesnewton.models.NewtonGP(kernel=kern, likelihood=lik, X=X, Y=Y)\n",
    "    opt_hypers = objax.optimizer.Adam(model.vars())\n",
    "    energy = objax.GradValues(model.energy, model.vars())\n",
    "\n",
    "    @objax.Function.with_vars(model.vars() + opt_hypers.vars())\n",
    "    def train():\n",
    "        model.inference()\n",
    "        dE, E = energy()\n",
    "        opt_hypers(lr_ad, dE)\n",
    "        return E\n",
    "\n",
    "    train = objax.Jit(train)\n",
    "\n",
    "    for i in tqdm(range(30)):\n",
    "        train()\n",
    "    return model\n",
    "x_model = train_gp(data['ground_truth'][0, :], data['ground_truth'][1, :])\n",
    "y_model = train_gp(data['ground_truth'][0, :], data['ground_truth'][2, :])"
   ]
  },
  {
   "cell_type": "code",
   "execution_count": null,
   "id": "efdde7c8-3c35-41f8-9f04-32492d485ec2",
   "metadata": {
    "tags": []
   },
   "outputs": [],
   "source": [
    "t = np.linspace(0, data['ground_truth'][0, :].max(), 1000)\n",
    "mu_x, _ = x_model.predict(X=t)\n",
    "mu_y, _ = y_model.predict(X=t)\n",
    "vx = (np.diff(mu_x)/np.diff(t))[::2]\n",
    "vy = (np.diff(mu_y)/np.diff(t))[::2]\n",
    "vx_model = train_gp(t[::2], vx)\n",
    "vy_model = train_gp(t[::2], vy)"
   ]
  },
  {
   "cell_type": "code",
   "execution_count": null,
   "id": "34113a2d-fe2f-42e3-bd76-fa3b3b9c15f4",
   "metadata": {
    "tags": []
   },
   "outputs": [],
   "source": [
    "d = np.arctan2(np.diff(mu_y), np.diff(mu_x))\n",
    "dfix = d.copy() # Fix the discontinuities in d\n",
    "inds = np.where(np.abs(np.diff(d)) > 3)[0] # Find indices where the change is too large (flip between pi and -pi)\n",
    "for i in inds:\n",
    "    dfix[i+1:] -= np.sign(d[i+1])*np.pi*2 # Subtract the difference (the flip) -> rotates the heading correctly\n",
    "vd = (np.diff(dfix)/np.diff(t[:-1]))[::2]\n",
    "vd_model = train_gp(t[::2][:-1], vd)"
   ]
  },
  {
   "cell_type": "markdown",
   "id": "2fec44e8-94ca-490d-a12f-5df13d0640fb",
   "metadata": {},
   "source": [
    "### Build model and form ground truth\n",
    "The sampling time of the model is easiest varied here and the ground truth is formed according to the chosen sampling time."
   ]
  },
  {
   "cell_type": "code",
   "execution_count": null,
   "id": "b27ef7eb-d032-46cb-a80a-73481f190d31",
   "metadata": {
    "tags": []
   },
   "outputs": [],
   "source": [
    "get_obs = lambda T: np.diff(pulse_times[:, ::int(T/.5)], axis=0).T*tdoa.v\n",
    "opt = scipy.optimize.minimize(lambda x: x_model.negative_log_predictive_density(X=x, Y=opt_xhat[0, [0]]), x0=pulse_times[0, [0]])\n",
    "def get_gt(T, N):\n",
    "    t_audio = opt.x + np.arange(N)*T\n",
    "    gt_x, _ = x_model.predict(X=t_audio)\n",
    "    gt_y, _ = y_model.predict(X=t_audio)\n",
    "    gt_vx, _ = vx_model.predict(X=t_audio)\n",
    "    gt_vy, _ = vy_model.predict(X=t_audio)\n",
    "    gt_vd, _ = vd_model.predict(X=t_audio)\n",
    "    gt = np.vstack([gt_x, gt_y, gt_vx, gt_vy, gt_vd]).T\n",
    "    return gt"
   ]
  },
  {
   "cell_type": "markdown",
   "id": "618aa729-3b5f-4206-b653-05650a2dcc4b",
   "metadata": {},
   "source": [
    "### Run filters\n",
    "\n",
    "Run filters with parameters sweeps over different sampling intervals and process noise levels. In this way, the differences between the three types of filters is clearly illustrated."
   ]
  },
  {
   "cell_type": "code",
   "execution_count": null,
   "id": "1d8c2df8-3272-4895-9f8c-bf99a9848a22",
   "metadata": {
    "tags": []
   },
   "outputs": [],
   "source": [
    "import itertools\n",
    "T = np.arange(.5, 4.1, step=.5)\n",
    "q1 = [1e-6, 1e-5, 1e-4, 1e-3, 1e-2, 1e-1, 1]\n",
    "q2 = [1e-5, 1e-4, 1e-3, 1e-2, 1e-1, 1]\n",
    "configs = list(itertools.product(q1, q2))\n",
    "lsopts = options.LineSearchIterationOptions(options.LineSearchOptions(gamma=0.25, beta=0.9))\n",
    "\n",
    "prior = tdoa.build_prior('../data/tdoa_data.json', P0=np.diag([1e-1, 1e-1, 1, 1, 1e-2]))\n",
    "theta = MVNormal(mic_locations.flatten(), None)\n",
    "\n",
    "results = dict()\n",
    "for Ti in tqdm(T, desc=\"Sampling interval: \"):\n",
    "    ssm = tdoa.build_model(Ti, 1e-2, 1e-2, s2[:4])\n",
    "    ekf = algs.ekf(ssm)\n",
    "    iekf = algs.iekf(ssm)\n",
    "    lsiekf = algs.lsiekf(ssm)\n",
    "    diekf = algs.diekf(ssm)\n",
    "    lsdiekf = algs.lsdiekf(ssm, linesearch_method=\"backtracking\")\n",
    "    observations = get_obs(Ti)\n",
    "    for config in tqdm(configs, desc=\"Config: \"):\n",
    "        tmp_ssm = tdoa.build_model(Ti, config[0], config[1], s2[:4])\n",
    "        ssm.transition_covariance.value = tmp_ssm.transition_covariance.value\n",
    "        ssm.observation_covariance.value = tmp_ssm.observation_covariance.value\n",
    "        _, xhat, _ = ekf(prior, theta, observations)\n",
    "        _, ixhat, _ = iekf(prior, theta, observations)\n",
    "        _, lsixhat, _ = lsiekf(prior, theta, observations, options=lsopts)\n",
    "        _, dixhat, _ = diekf(prior, theta, observations)\n",
    "        _, lsdixhat, _ = lsdiekf(prior, theta, observations, options=lsopts)\n",
    "        g_config = config + (Ti,)\n",
    "        results[g_config] = dict(ekf=xhat, iekf=ixhat, lsiekf=lsixhat, diekf=dixhat, lsdiekf=lsdixhat)"
   ]
  },
  {
   "cell_type": "code",
   "execution_count": null,
   "id": "9a50fe9e-97d6-4cc0-ad0b-96ddf5f99398",
   "metadata": {
    "tags": []
   },
   "outputs": [],
   "source": [
    "se = lambda gt, mu: (gt - mu)**2\n",
    "pl = lambda ax, x, **kwargs: ax.plot(x[:, 0], x[:, 1], **kwargs)\n",
    "def calc_rmse(results):\n",
    "    rmse = {}\n",
    "    T_gt = {}\n",
    "    for config, result in results.items():\n",
    "        irmse = {}\n",
    "        T = config[-1]\n",
    "        m = list(result.keys())[1]\n",
    "        if T_gt.get(T, None) is None:\n",
    "            T_gt[T] = get_gt(T, result[m].mean.shape[0]) # Calculate the ground truth for this particular sampling time\n",
    "        for model, est in result.items():\n",
    "            irmse[model] = np.sqrt(np.mean(np.sum(se(T_gt[T], est.mean)[:, :2], axis=1)))\n",
    "        rmse[config] = irmse\n",
    "    return rmse\n",
    "rmse = calc_rmse(results)"
   ]
  },
  {
   "cell_type": "markdown",
   "id": "f46cae67-dec1-4c89-bc1c-9ba0013c98f5",
   "metadata": {},
   "source": [
    "### Plot RMSE per configuration"
   ]
  },
  {
   "cell_type": "code",
   "execution_count": null,
   "id": "afb8a5fb-67ce-44d6-a3d4-c8543196b164",
   "metadata": {
    "tags": []
   },
   "outputs": [],
   "source": [
    "import pandas as pd\n",
    "import seaborn as sns\n",
    "import matplotlib as mpl\n",
    "sns.set()\n",
    "df = pd.DataFrame(rmse).T.melt(ignore_index=False).sort_index()\n",
    "df.index.names = ['$q_1$', '$q_2$', \"T\"]\n",
    "df = df.reset_index()\n",
    "df = df.rename(columns={\"variable\": \"Alg.\", \"value\": \"RMSE\"})"
   ]
  },
  {
   "cell_type": "markdown",
   "id": "611b0711-e281-4757-b82f-9a1991635829",
   "metadata": {},
   "source": [
    "### Double row plot -- only suitable for evenly divisible number of plots"
   ]
  },
  {
   "cell_type": "code",
   "execution_count": null,
   "id": "cc176b39-2eb7-418b-a197-e44673208c28",
   "metadata": {
    "jupyter": {
     "source_hidden": true
    },
    "tags": []
   },
   "outputs": [],
   "source": [
    "# Plot for paper on unification\n",
    "def plot_rmse(df, algs, T, filename=None, figsize=(8, 5.5)):\n",
    "    df_dec = df.loc[(df['$q_1$']<1) & (df[\"Alg.\"].isin(algs)) & (df[\"T\"] == T)]\n",
    "    df_dec = df_dec.assign(**{\"Alg.\": pd.Categorical(df_dec[\"Alg.\"], categories=algs)})\n",
    "    df_dec = df_dec.sort_values([\"$q_1$\", \"Alg.\"]).reset_index(drop=True)\n",
    "    plt.close(\"all\")\n",
    "    with sns.axes_style(\"whitegrid\"):\n",
    "        fs = 16\n",
    "        plt.rc('ytick', labelsize=fs)\n",
    "        plt.rc('xtick', labelsize=fs)\n",
    "        plt.rc('axes', labelsize=fs,titlesize=fs)\n",
    "        plt.rc('legend', fontsize=fs)\n",
    "        q1_J = df_dec['$q_1$'].unique()\n",
    "        rows = int(len(q1_J)/2)\n",
    "        cols = 2\n",
    "        fig, ax = plt.subplots(rows, cols, figsize=figsize, layout=\"constrained\")\n",
    "        df_dec.loc[df_dec[\"RMSE\"]>1] = np.nan\n",
    "        sizes = (100*np.flip(np.arange(1, len(algs)+1))).tolist()\n",
    "        for j, q in enumerate(q1_J):\n",
    "            row = j // cols\n",
    "            sns.scatterplot(ax=ax[row, j%cols], data=df_dec.loc[df_dec['$q_1$']==q], x=\"$q_2$\", hue=\"Alg.\", style=\"Alg.\", y=\"RMSE\", #marker=\".\", \n",
    "                        legend=\"full\", hue_order=algs, style_order=algs, size=\"Alg.\", size_order=algs, sizes=sizes, edgecolor=\"w\", linestyle=\"--\", linewidth=.25)\n",
    "            logfmt = lambda x: f'$10^{{{np.log10(x):n}}}$'\n",
    "            ax[row, j%cols].set(yscale=\"log\", xscale=\"log\", xticks=q2, yticks=[1e-2, 1e-1, 1e-0], ylim=[1e-2*0.5, 5], xlim=[q2[0]*0.5, q2[-1]*1.5])\n",
    "            ax[row, j%cols].set_title(\"$q_1=${}\".format(logfmt(q)), y=1.02, x=0.8, pad=-20)\n",
    "            if j > 0:\n",
    "                ax[row, j%cols].get_legend().remove()\n",
    "            if row < rows-1:\n",
    "                ax[row, j%cols].set_xlabel(\"\")\n",
    "                ax[row, j%cols].tick_params(labelbottom=False)\n",
    "            if j%cols > 0:\n",
    "                ax[row, j%cols].tick_params(labelleft=False)\n",
    "                ax[row, j%cols].set_ylabel(\"\")\n",
    "            if row == 0 or row == 2:\n",
    "                ax[row, j%cols].set_ylabel(\"\")\n",
    "\n",
    "            #sns.despine(ax=ax[row, j%cols], top=True, bottom=False, right=True)\n",
    "        handles, labels = ax[0,0].get_legend_handles_labels()\n",
    "        ax[0,0].get_legend().remove()\n",
    "        fig.canvas.draw()\n",
    "        # Get the bounding boxes of the axes including text decorations\n",
    "        r = fig.canvas.get_renderer()\n",
    "        get_bbox = lambda ax: ax.get_tightbbox(r).transformed(fig.transFigure.inverted())\n",
    "        bboxes = list(map(get_bbox, ax.flat))\n",
    "\n",
    "        # Get the minimum and maximum extent of axes\n",
    "        xmin = list(map(lambda b: b.x0, bboxes))\n",
    "        xmax = list(map(lambda b: b.x1, bboxes))\n",
    "        fig_center = np.stack([xmax, xmin]).mean()\n",
    "\n",
    "        lgd = fig.legend(handles, [x.upper() for x in labels], ncols=len(algs), bbox_to_anchor=(fig_center, 1.03), loc=\"center\", frameon=False)\n",
    "        if filename is not None:\n",
    "            plt.savefig(filename, dpi=300, bbox_inches=\"tight\")\n",
    "    return fig\n",
    "# Plotting for paper on damped\n",
    "def plot_rmse_ddif(df, algs, T, filename=None, figsize=(8, 5.5)):\n",
    "    df_dec = df.loc[(df['$q_1$']<1) & (df[\"Alg.\"].isin(algs)) & (df[\"T\"] == T)]\n",
    "    df_dec = df_dec.assign(**{\"Alg.\": pd.Categorical(df_dec[\"Alg.\"], categories=algs)})\n",
    "    df_dec = df_dec.sort_values([\"$q_1$\", \"Alg.\"]).reset_index(drop=True)\n",
    "    df_dec = df_dec.replace({'$q_2$': dict(zip(q2, range(6)))})\n",
    "    shift = dict(zip(algs, np.arange(-2, 3)*0.15))\n",
    "    df_dec['$q_2$'] = df_dec.apply(lambda x: x['$q_2$'] + shift[x['Alg.']], axis=1)\n",
    "    plt.close(\"all\")\n",
    "    with sns.axes_style(\"whitegrid\"):\n",
    "        fs = 16\n",
    "        plt.rc('ytick', labelsize=fs)\n",
    "        plt.rc('xtick', labelsize=fs)\n",
    "        plt.rc('axes', labelsize=fs,titlesize=fs)\n",
    "        plt.rc('legend', fontsize=fs)\n",
    "        q1_J = df_dec['$q_1$'].unique()\n",
    "        rows = int(len(q1_J)/3)\n",
    "        cols = 3\n",
    "        fig, ax = plt.subplots(rows, cols, figsize=figsize, layout=\"constrained\")\n",
    "        df_dec.loc[df_dec[\"RMSE\"]>1] = np.nan\n",
    "        sizes = (150*np.ones(len(algs))).tolist()\n",
    "        for j, q in enumerate(q1_J):\n",
    "            row = j // cols\n",
    "            sns.scatterplot(ax=ax[row, j%cols], data=df_dec.loc[df_dec['$q_1$']==q], x=\"$q_2$\", hue=\"Alg.\", style=\"Alg.\", y=\"RMSE\", #marker=\".\", \n",
    "                        legend=\"full\", hue_order=algs, style_order=algs, size=\"Alg.\", size_order=algs, sizes=sizes, edgecolor=\"w\", linestyle=\"-\", linewidth=.5)\n",
    "            logfmt = lambda x: f'$10^{{{np.log10(x):n}}}$'\n",
    "            ax[row, j%cols].set(yscale=\"log\", yticks=[1e-2, 1e-1, 1e-0], ylim=[1e-2*0.5, 5], xticks=range(6), xlim=[-0.5, 5.5], xticklabels=[logfmt(x) for x in q2])\n",
    "            ax[row, j%cols].set_title(\"$q_1=${}\".format(logfmt(q)), y=1.02, x=0.8, pad=-20)\n",
    "            if j > 0:\n",
    "                ax[row, j%cols].get_legend().remove()\n",
    "            if row < rows-1:\n",
    "                ax[row, j%cols].set_xlabel(\"\")\n",
    "                ax[row, j%cols].tick_params(labelbottom=False)\n",
    "            if j%cols > 0:\n",
    "                ax[row, j%cols].tick_params(labelleft=False)\n",
    "                ax[row, j%cols].set_ylabel(\"\")\n",
    "            if row == 0 or row == 2:\n",
    "                ax[row, j%cols].set_ylabel(\"\")\n",
    "            ax[row, j%cols].set_ylabel(\"\")\n",
    "\n",
    "            #sns.despine(ax=ax[row, j%cols], top=True, bottom=False, right=True)\n",
    "        handles, labels = ax[0,0].get_legend_handles_labels()\n",
    "        ax[0,0].get_legend().remove()\n",
    "        fig.canvas.draw()\n",
    "        # Get the bounding boxes of the axes including text decorations\n",
    "        r = fig.canvas.get_renderer()\n",
    "        get_bbox = lambda ax: ax.get_tightbbox(r).transformed(fig.transFigure.inverted())\n",
    "        bboxes = list(map(get_bbox, ax.flat))\n",
    "\n",
    "        # Get the minimum and maximum extent of axes\n",
    "        xmin = list(map(lambda b: b.x0, bboxes))\n",
    "        xmax = list(map(lambda b: b.x1, bboxes))\n",
    "        fig_center = np.stack([xmax, xmin]).mean()\n",
    "\n",
    "        ymin = list(map(lambda b: b.y0, bboxes))\n",
    "        ymax = list(map(lambda b: b.y1, bboxes))\n",
    "        fig.supylabel(\"RMSE\", fontsize=fs, y=np.stack([ymax, ymin]).mean())\n",
    "\n",
    "        lgd = fig.legend(handles, [x.upper() for x in labels], ncols=len(algs), bbox_to_anchor=(fig_center, 1.03), loc=\"center\", frameon=False)\n",
    "        if filename is not None:\n",
    "            plt.savefig(filename, dpi=300, bbox_inches=\"tight\")\n",
    "    return fig"
   ]
  },
  {
   "cell_type": "markdown",
   "id": "5e93abdb-2f2a-47b2-8ef5-c3b17c8d0bac",
   "metadata": {},
   "source": [
    "### Unification plot"
   ]
  },
  {
   "cell_type": "code",
   "execution_count": null,
   "id": "bdb17e4f-6c0a-445b-b40e-1a46c0601d36",
   "metadata": {
    "tags": []
   },
   "outputs": [],
   "source": [
    "algs = [\"ekf\", \"iekf\", \"diekf\"]\n",
    "T = 1.5\n",
    "plot_rmse(df, algs, T)\n",
    "plt.show()"
   ]
  },
  {
   "cell_type": "markdown",
   "id": "1f77cb6e-933f-46d7-9a79-c6879972555c",
   "metadata": {},
   "source": [
    "### Damping plot"
   ]
  },
  {
   "cell_type": "code",
   "execution_count": null,
   "id": "fe6f4c3f-08ac-41e0-a41e-86367cef94b4",
   "metadata": {
    "tags": []
   },
   "outputs": [],
   "source": [
    "algs = [\"ekf\", \"iekf\", \"diekf\", \"lsiekf\", \"lsdiekf\"]\n",
    "T = 1.5\n",
    "plot_rmse_ddif(df, algs, T, figsize=(14, 4))\n",
    "plt.show()"
   ]
  },
  {
   "cell_type": "markdown",
   "id": "90802e42-2272-463a-9a83-e089ad2b6f49",
   "metadata": {},
   "source": [
    "### Trajectory plots\n",
    "Plots of the trajectories for all process noise configurations for a specific sampling time."
   ]
  },
  {
   "cell_type": "code",
   "execution_count": null,
   "id": "687d5102-6eae-4b83-acf7-2704421b27c1",
   "metadata": {
    "tags": []
   },
   "outputs": [],
   "source": [
    "from matplotlib.gridspec import GridSpec\n",
    "\n",
    "def plot_traj(T, result, order, ax=plt.gca()):\n",
    "    if order is None:\n",
    "        order = list(result.keys())\n",
    "    res = {key: val for key, val in result.items() if key in order}\n",
    "    for m in sorted(res.keys(), key = lambda el: order.index(el)):\n",
    "        pl(ax, res[m].mean, lw=1, label=m.upper())\n",
    "    gt = get_gt(T, res[m].mean.shape[0])\n",
    "    pl(ax, gt, color='k', marker='.', linestyle='', label=\"GT\", zorder=0)\n",
    "    ax.plot(mic_locations[0, :], mic_locations[1, :], 'k*', label=\"Microphones\")\n",
    "    axmin, axmax = mic_locations.min(axis=1), mic_locations.max(axis=1)\n",
    "    ext = np.abs(axmax-axmin)\n",
    "    axmin -= ext/5\n",
    "    axmax += ext/5\n",
    "    ax.set_xlim([axmin[0], axmax[0]])\n",
    "    ax.set_ylim([axmin[1], axmax[1]])\n",
    "    return ax\n",
    "\n",
    "def plot_all_trajs(results, order=None):\n",
    "    N = len(results.keys())\n",
    "    fig = plt.figure(figsize=(16, int(N/4)*1.5))\n",
    "    q1 = np.unique([x[0] for x in results.keys()])\n",
    "    q2 = np.unique([x[1] for x in results.keys()])\n",
    "    gs = GridSpec(len(q1), len(q2), figure=fig)\n",
    "    for i, (config, result) in enumerate(results.items()):\n",
    "        ax = fig.add_subplot(gs[int(np.floor(i/len(q2))), i%len(q2)])\n",
    "        plot_traj(config[-1], result, order, ax)\n",
    "        ax.set_title(\"Config: {}\".format(config))\n",
    "    handles, labels = ax.get_legend_handles_labels()\n",
    "    fig.legend(handles, labels, loc='upper center', ncols=len(labels))\n",
    "    gs.tight_layout(fig)\n",
    "    return fig"
   ]
  },
  {
   "cell_type": "code",
   "execution_count": null,
   "id": "de1c147a-fa45-4f95-bc13-4e31b7747ae8",
   "metadata": {
    "tags": []
   },
   "outputs": [],
   "source": [
    "T_plot = 4.0\n",
    "plt.close('all')\n",
    "plot_all_trajs({key: res for key, res in results.items() if key[-1] == T_plot}, order=[\"ekf\", \"iekf\", \"diekf\", \"lsiekf\", \"lsdiekf\"])\n",
    "plt.show()"
   ]
  }
 ],
 "metadata": {
  "kernelspec": {
   "display_name": "Python 3 (ipykernel)",
   "language": "python",
   "name": "python3"
  },
  "language_info": {
   "codemirror_mode": {
    "name": "ipython",
    "version": 3
   },
   "file_extension": ".py",
   "mimetype": "text/x-python",
   "name": "python",
   "nbconvert_exporter": "python",
   "pygments_lexer": "ipython3",
   "version": "3.11.1"
  }
 },
 "nbformat": 4,
 "nbformat_minor": 5
}
