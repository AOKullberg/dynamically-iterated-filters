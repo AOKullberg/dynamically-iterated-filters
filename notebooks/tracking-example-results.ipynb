{
 "cells": [
  {
   "cell_type": "markdown",
   "id": "f42df5c0-8dfa-4e57-8e21-c0b20d9160f7",
   "metadata": {},
   "source": [
    "# Simulated tracking example"
   ]
  },
  {
   "cell_type": "code",
   "execution_count": null,
   "id": "75964384-20e9-4206-8586-8e14d1b09417",
   "metadata": {
    "tags": []
   },
   "outputs": [],
   "source": [
    "import numpy as np\n",
    "import os\n",
    "import jax\n",
    "import jax.numpy as jnp\n",
    "import pandas as pd\n",
    "import yaml\n",
    "import json\n",
    "import matplotlib.pyplot as plt\n",
    "import seaborn as sns\n",
    "sns.set_style('whitegrid')\n",
    "sns.set_palette('deep')\n",
    "%matplotlib widget\n",
    "datadir = '../data/tracking/'\n",
    "dirs = [os.path.join(datadir, x) for x in next(os.walk(datadir))[1]]\n",
    "dirs.sort(key=lambda x: int(x.split('/')[-1]))"
   ]
  },
  {
   "cell_type": "markdown",
   "id": "9d088501-5d1d-4132-8e58-41cc54fdfd67",
   "metadata": {},
   "source": [
    "### Load data from data directory"
   ]
  },
  {
   "cell_type": "code",
   "execution_count": null,
   "id": "b1a86fe6-0335-4a55-bd50-660a29d96767",
   "metadata": {
    "tags": []
   },
   "outputs": [],
   "source": [
    "from ssmjax.types import MVNormal\n",
    "statistics = {}\n",
    "results = {}\n",
    "for path in dirs:\n",
    "    conf = os.path.join(os.path.join(path, '.hydra'), 'config.yaml')\n",
    "    with open(conf, \"r\") as file:\n",
    "        d = yaml.safe_load(file)\n",
    "    data = dict(np.load(os.path.join(path, 'result.npz')))\n",
    "    alg = d['alg']['_target_'].split('.')[-1]\n",
    "    q1 = d['sim']['q1']\n",
    "    T = d['sim']['T']\n",
    "    s2 = d['sim']['s2']\n",
    "    states = MVNormal(data.pop('state_mean'), cov=data.pop('state_cov'))\n",
    "    if results.get((q1, s2, T), None) is None:\n",
    "        results[(q1, s2, T)] = dict()\n",
    "    results[(q1, s2, T)][alg] = dict(state_trajectory=states)\n",
    "    results[(q1, s2, T)][alg].update(data)"
   ]
  },
  {
   "cell_type": "markdown",
   "id": "4d31a60d-5260-466d-a21c-945ea3b1ef3b",
   "metadata": {},
   "source": [
    "## Trajectory plots\n",
    "Plots five sample trajectories from the data. Both ground truth and measurements are visualized."
   ]
  },
  {
   "cell_type": "code",
   "execution_count": null,
   "id": "68eb10e2-21ce-4d71-8b21-bd726ce02c45",
   "metadata": {
    "tags": []
   },
   "outputs": [],
   "source": [
    "x = results[(0.001, 10, 1)]['ekf']['x']\n",
    "y = results[(0.001, 10, 1)]['ekf']['y']\n",
    "\n",
    "rkey = jax.random.PRNGKey(19)\n",
    "inds = jax.random.randint(rkey, shape=(5,), minval=np.arange(0, 100, 20), maxval=np.arange(20, 101, 20))\n",
    "\n",
    "sns.set_palette('deep')\n",
    "with sns.axes_style(\"whitegrid\"):\n",
    "    with sns.plotting_context(\"paper\"):\n",
    "        plt.rc('ytick', labelsize=16)\n",
    "        plt.rc('xtick', labelsize=16)\n",
    "        plt.rc('axes', labelsize=16)\n",
    "        plt.figure(figsize=(7, 6))\n",
    "        plt.plot(x[inds, :, 0].T, x[inds, :, 2].T, marker='.', lw=3, markersize=10)\n",
    "        # plt.plot(x[:20:4, :, 0].T, x[:20:4, :, 2].T, '.', lw=3, markersize=10)\n",
    "        plt.xlabel(r'$p^x~$[m]')\n",
    "        plt.xticks([-500, 0, 500, 1000])\n",
    "        plt.yticks([-300, -100, 100, 300, 500])\n",
    "        # plt.xticks([-800, -400, 0, 400])\n",
    "        # plt.yticks([0, 400, 800, 1200])\n",
    "        plt.ylabel(r'$p^y~$[m]')\n",
    "        plt.plot(y[inds, :, 0].T, y[inds, :, 1].T, 'k.', markersize=5)\n",
    "plt.tight_layout()\n",
    "plt.savefig('trackingtrajectories.eps', bbox_inches=0)\n",
    "plt.show()"
   ]
  },
  {
   "cell_type": "code",
   "execution_count": null,
   "id": "5dc66ef8-adaf-4cf8-aec0-ab51dfc417a5",
   "metadata": {
    "tags": []
   },
   "outputs": [],
   "source": [
    "from itertools import product\n",
    "def config_mse(config_results):\n",
    "    df = pd.DataFrame()\n",
    "    for alg, res in config_results.items():\n",
    "        se = (res['x']-res['state_trajectory'].mean)**2\n",
    "        mse = np.mean(se, axis=(1)) # Mean over time\n",
    "        cols = [r'$p_x$', r'$v_x$', r'$p_y$', r'$v_y$', r'$\\delta$']\n",
    "        index = pd.MultiIndex.from_tuples(product([alg], np.arange(mse.shape[0])), names=['Algorithm', 'Simulation'])\n",
    "        df = pd.concat([df, pd.DataFrame(mse, columns=cols, index=index)], axis=0)\n",
    "    return df\n",
    "\n",
    "def calc_mse(results):\n",
    "    df = pd.DataFrame()\n",
    "    for config, config_result in results.items():\n",
    "        stats = config_mse(config_result)\n",
    "        # Convert index to dataframe\n",
    "        old_idx = stats.index.to_frame()\n",
    "        # Insert new level at specified location\n",
    "        old_idx.insert(0, 'T', config[2])\n",
    "        old_idx.insert(0, 'R', config[1])\n",
    "        old_idx.insert(0, 'Q', config[0])\n",
    "        # Convert back to MultiIndex\n",
    "        stats.index = pd.MultiIndex.from_frame(old_idx)\n",
    "        df = pd.concat([df, stats], axis=0)\n",
    "    return df\n",
    "df = calc_mse(results)"
   ]
  },
  {
   "cell_type": "code",
   "execution_count": null,
   "id": "8abcd1c9-c02e-412d-ac39-b59e07761c68",
   "metadata": {
    "tags": []
   },
   "outputs": [],
   "source": [
    "means = df.groupby(['Q', 'R', 'T', 'Algorithm']).mean()\n",
    "# Restructures dataframe to baseline, iterated and relative performance\n",
    "def relative_performance(mean_mses, base_alg, iter_alg, name):\n",
    "    m = mean_mses.loc[:, :, :, [base_alg, iter_alg]].copy()\n",
    "    m.rename(index={base_alg: 'Baseline', iter_alg: 'Iterated'}, inplace=True)\n",
    "    # m2 = m.groupby(['Q', 'R', 'T']).agg(lambda x: x.loc[:,:,:,'Iterated']/x.loc[:, :, :, 'Baseline'])\n",
    "    # idx = m2.index.to_frame()\n",
    "    # idx.insert(3, 'Algorithm', 'Relative')\n",
    "    # m2.index = pd.MultiIndex.from_frame(idx)\n",
    "    # m = pd.concat([m, m2], axis=0)\n",
    "    old_idx = m.index.to_frame()\n",
    "    old_idx.insert(3, 'Transform', name)\n",
    "    m.index = pd.MultiIndex.from_frame(old_idx)\n",
    "    return m\n",
    "\n",
    "me = relative_performance(means, 'ekf', 'diekf', 'Extended')\n",
    "mc = relative_performance(means, 'ckf', 'dickf', 'Cubature')\n",
    "mu = relative_performance(means, 'ukf', 'diukf', 'Unscented')\n",
    "mplf = relative_performance(means, 'ukf', 'diplf', 'Posterior Linearization')\n",
    "relperf = pd.concat([me, mc, mu, mplf], axis=0).sort_index()"
   ]
  },
  {
   "cell_type": "code",
   "execution_count": null,
   "id": "916ee4fe-bfc3-460a-9476-bb4c16bb42b7",
   "metadata": {
    "tags": []
   },
   "outputs": [],
   "source": [
    "from matplotlib import cm\n",
    "from matplotlib.colors import ListedColormap\n",
    "import matplotlib as mpl\n",
    "\n",
    "def plot_relperf(relperf, transform, ax, index):\n",
    "    Qvals = np.unique([x[0] for x in relperf.index.to_numpy()])\n",
    "    Rvals = np.unique([x[1] for x in relperf.index.to_numpy()])\n",
    "    \n",
    "    Qvals_txt = np.flip([(r'$' + np.format_float_scientific(x, exp_digits=1).replace('.e', '0^{') + '}$').replace('+', '') for x in Qvals])\n",
    "    \n",
    "    # Qvals = np.flip([np.format_float_positional(x, precision=10, trim='-') for x in Qvals])\n",
    "    Rvals_txt = [(r'$' + np.format_float_scientific(x, exp_digits=1).replace('.e', '0^{') + '}$').replace('+', '') for x in Rvals]\n",
    "    # Rvals = [np.format_float_positional(x, precision=10, trim='-') for x in Rvals]\n",
    "    \n",
    "    # cmap = sns.diverging_palette(250, 14, n=15, l=50, s=90, sep=1)\n",
    "    # cmap = ListedColormap(cmap.as_hex())\n",
    "    # cmap = ListedColormap(sns.light_palette((130, 70, 50), input='husl', n_colors=8, reverse=True).as_hex())\n",
    "    # cmap = ListedColormap(sns.color_palette('crest', n_colors=8).as_hex())\n",
    "    cmap = ListedColormap(sns.cubehelix_palette(start=1.9, rot=0., gamma=1.0, hue=0.7, light=1.0, dark=0.5, reverse=True, n_colors=8).as_hex())\n",
    "    # cmap = cm.get_cmap('summer', 8)\n",
    "    # cmap = sns.diverging_palette(250, 14, l=50, s=90, sep=1, as_cmap=True)\n",
    "    \n",
    "    inds = [[0, 2], [1, 3]]\n",
    "    ims = []\n",
    "    for l, axi in enumerate(ax):\n",
    "        dat = relperf.loc[:, :, transform].iloc[:, inds[l]].mean(axis=1)\n",
    "        \n",
    "        basedat = np.flip(np.sqrt(dat.loc[:,:,'Baseline'].to_numpy()).reshape(len(Qvals), len(Rvals)), axis=0)\n",
    "        iterdat = np.flip(np.sqrt(dat.loc[:,:,'Iterated'].to_numpy()).reshape(len(Qvals), len(Rvals)), axis=0)\n",
    "        if l == 0:\n",
    "            thresh = np.sqrt(Rvals)\n",
    "            iter_valid = np.round(iterdat, 0) <= thresh\n",
    "            base_valid = np.round(basedat, 0) <= thresh\n",
    "        reldat = iterdat/basedat\n",
    "        reldat[~iter_valid] = 1 # If the iterated filter has diverged, we want the image to be white.\n",
    "        \n",
    "        ims.append(axi[index].imshow(reldat, cmap=cmap, vmin=0.6, vmax=1))\n",
    "        axi[index].set_xlim([-.5, len(Rvals)-.5])\n",
    "        axi[index].set_ylim([len(Qvals)-.5, -.5])\n",
    "        axi[index].set_xticks(np.arange(len(Rvals)))\n",
    "        axi[index].set_yticks(np.arange(len(Qvals)))\n",
    "        axi[index].set_xticklabels(Rvals_txt)\n",
    "        axi[index].set_yticklabels(Qvals_txt)\n",
    "        \n",
    "        axi[index].hlines(y=np.arange(len(Qvals)-1)+0.5, xmin=np.full(len(Rvals)-1, 0)-0.5, xmax=np.full(len(Rvals)-1, len(Rvals))-0.5, color=\"black\", lw=1)\n",
    "        axi[index].vlines(x=np.arange(len(Rvals)-1)+0.5, ymin=np.full(len(Qvals)-1, 0)-0.5, ymax=np.full(len(Qvals)-1, len(Qvals))-0.5, color=\"black\", lw=1)\n",
    "        \n",
    "        # Loop over data dimensions and create text annotations.\n",
    "        for i in range(len(Qvals)):\n",
    "            for j in range(len(Rvals)):\n",
    "                iter_txt = np.format_float_positional(iterdat[i, j], precision=3, trim='-') if iter_valid[i, j] else '-'\n",
    "                base_txt = np.format_float_positional(basedat[i, j], precision=3, trim='-') if base_valid[i, j] else '-'\n",
    "                \n",
    "                if iter_valid[i, j] and base_valid[i, j]:\n",
    "                    axi[index].text(j, i, r\"$\\frac{{{}}}{{{}}}$\".format(iter_txt, base_txt),\n",
    "                                   ha=\"center\", va=\"center\", color=\"k\")\n",
    "                else: # Adjust alignment due to matplotlib idiocy\n",
    "                    axi[index].annotate(xy=(j, i), xytext=(j, i+0.03), text=r\"$\\frac{{{}}}{{{}}}$\".format(iter_txt, base_txt),\n",
    "                                   ha=\"center\", va=\"center\", color=\"k\")\n",
    "        axi[index].set_xlabel(r'$\\sigma^2$')\n",
    "        axi[index].set_title(transform)\n",
    "    return ims\n",
    "\n",
    "T = 1\n",
    "plt.close('all')\n",
    "sns.set_context(\"paper\")\n",
    "plt.rc('xtick', labelsize=14)\n",
    "plt.rc('ytick', labelsize=14)\n",
    "plt.rc('axes', labelsize=18, titlesize=18)\n",
    "plt.rc('figure', titlesize=20)\n",
    "plt.rc('text', usetex=True)\n",
    "plt.rc('text.latex', preamble='')\n",
    "plt.rc('font', size=20)\n",
    "plt.rc('ps', usedistiller='xpdf')\n",
    "plt.rcParams.update({\n",
    "    \"font.family\": \"sans-serif\",\n",
    "    \"font.sans-serif\": \"Computer Modern Serif\",\n",
    "})\n",
    "fig = []\n",
    "ax = []\n",
    "with sns.axes_style('white'):\n",
    "    for i in range(2):\n",
    "        fig.append(plt.figure(figsize=(12, 6), constrained_layout=True))\n",
    "        ax.append(fig[i].subplots(1, 3))\n",
    "    \n",
    "    ims = plot_relperf(relperf.loc[:,:,T], 'Extended', ax, 0)\n",
    "    # plot_relperf(relperf, 'Cubature', ax[1])\n",
    "    plot_relperf(relperf.loc[:,:,T], 'Unscented', ax, 1)\n",
    "    plot_relperf(relperf.loc[:,:,T], 'Posterior Linearization', ax, 2)\n",
    "    # fig.suptitle('T = {}'.format(T))\n",
    "    for i in range(2):\n",
    "        ax[i][0].set_ylabel(r'$q_1$', rotation='horizontal', y=1, horizontalalignment='left')\n",
    "        ax[i][1].set_yticklabels([])\n",
    "        ax[i][2].set_yticklabels([])\n",
    "        cbar = fig[i].colorbar(ims[i],orientation='horizontal', ax=ax[i], location='bottom', shrink=.75, aspect=60)\n",
    "        for axi in ax[i]:\n",
    "            plt.setp(axi.spines.values(), linewidth=3)\n",
    "        # cbar.set_label(r'Relative \\textsc{RMSE} Iterated/Baseline')\n",
    "    # fig[0].suptitle(r'Position \\textsc{RMSE} $\\left[m^2\\right]$', y=1)\n",
    "    # fig[1].suptitle(r'Velocity \\textsc{RMSE} $\\left[\\frac{{{m^2}}}{{{s^2}}}\\right]$', y=1)\n",
    "\n",
    "# plt.tight_layout()\n",
    "plt.show()"
   ]
  },
  {
   "cell_type": "code",
   "execution_count": null,
   "id": "a614bd3d-5473-46ae-9aa9-4e3af19627d7",
   "metadata": {
    "tags": []
   },
   "outputs": [],
   "source": [
    "fig[0].savefig('position-rmse.eps', bbox_inches=0)\n",
    "fig[1].savefig('velocity-rmse.eps', bbox_inches=0)"
   ]
  }
 ],
 "metadata": {
  "kernelspec": {
   "display_name": "Python 3 (ipykernel)",
   "language": "python",
   "name": "python3"
  },
  "language_info": {
   "codemirror_mode": {
    "name": "ipython",
    "version": 3
   },
   "file_extension": ".py",
   "mimetype": "text/x-python",
   "name": "python",
   "nbconvert_exporter": "python",
   "pygments_lexer": "ipython3",
   "version": "3.11.1"
  }
 },
 "nbformat": 4,
 "nbformat_minor": 5
}
